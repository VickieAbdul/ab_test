{
  "nbformat": 4,
  "nbformat_minor": 0,
  "metadata": {
    "colab": {
      "provenance": []
    },
    "kernelspec": {
      "name": "python3",
      "display_name": "Python 3"
    },
    "language_info": {
      "name": "python"
    }
  },
  "cells": [
    {
      "cell_type": "markdown",
      "source": [
        "**Problem Statement**\n",
        "\n",
        "A company that wants to test two versions of a “Buy Now” button on their website:\n",
        "\n",
        "*   Version A (Control): Blue button.\n",
        "*   Version B (Test): Red button.\n",
        "\n",
        "The goal is to see which button gets more clicks (i.e., a higher click-through rate)."
      ],
      "metadata": {
        "id": "GZHQM9OmSeM3"
      }
    },
    {
      "cell_type": "markdown",
      "source": [
        "**A brief summary of A/B testing steps:**\n",
        "\n",
        "\n",
        "1.   **Define the Goal**: What metric are you trying to improve? (in our case, Click-Through Rate).\n",
        "2.   **Create Variants**: Design Version A (Control) and Version B (Test).\n",
        "3. **Randomly Split Users:** Show Version A to half of the users and Version B to the other half.\n",
        "4. **Collect Data:** Track user interactions (clicks, purchases, etc.).\n",
        "5. **Analyze Results:** Compare metrics (e.g., average click rates).\n",
        "\n",
        "      - Perform a statistical test (like a t-test or chi-square test) to check\n",
        "        if the difference is significant.\n",
        "\n",
        "6. **Decide & Implement:** If Version B performs better, implement it. Otherwise, stick with Version A.\n",
        "\n",
        "\n"
      ],
      "metadata": {
        "id": "lyyfYzgSU-fW"
      }
    },
    {
      "cell_type": "markdown",
      "source": [
        "**1. Setting Up the Experiment**"
      ],
      "metadata": {
        "id": "p6zkQJzR08-H"
      }
    },
    {
      "cell_type": "code",
      "execution_count": 1,
      "metadata": {
        "id": "qkcQGUaIR9E3"
      },
      "outputs": [],
      "source": [
        "import numpy as np"
      ]
    },
    {
      "cell_type": "code",
      "source": [
        "# Setting a random seed for reproducibility\n",
        "np.random.seed(42)"
      ],
      "metadata": {
        "id": "T_lUBWPVSHGI"
      },
      "execution_count": 2,
      "outputs": []
    },
    {
      "cell_type": "code",
      "source": [
        "# Number of users who saw each version\n",
        "num_users_A = 1000  # Blue button (Control)\n",
        "num_users_B = 1000  # Red button (Test)\n"
      ],
      "metadata": {
        "id": "RoVjNIj5SHJw"
      },
      "execution_count": 3,
      "outputs": []
    },
    {
      "cell_type": "code",
      "source": [
        "# Simulating clicks (1 = Clicked, 0 = Not Clicked)\n",
        "clicks_A = np.random.binomial(1, 0.10, num_users_A)  # 10% click rate\n",
        "clicks_B = np.random.binomial(1, 0.12, num_users_B)  # 12% click rate"
      ],
      "metadata": {
        "id": "NIURLudzSHM6"
      },
      "execution_count": 4,
      "outputs": []
    },
    {
      "cell_type": "code",
      "source": [
        "# Checking how many people clicked each button\n",
        "total_clicks_A = np.sum(clicks_A)\n",
        "total_clicks_B = np.sum(clicks_B)"
      ],
      "metadata": {
        "id": "U8j1bQK6SHQH"
      },
      "execution_count": 5,
      "outputs": []
    },
    {
      "cell_type": "code",
      "source": [
        "print(f\"Total Clicks for Blue Button (A): {total_clicks_A}\")\n",
        "print(f\"Total Clicks for Red Button (B): {total_clicks_B}\")"
      ],
      "metadata": {
        "colab": {
          "base_uri": "https://localhost:8080/"
        },
        "id": "z-ZsPNBeSHTR",
        "outputId": "05d1fa6c-cb9c-4ba5-f6dc-fd9125d2606a"
      },
      "execution_count": 6,
      "outputs": [
        {
          "output_type": "stream",
          "name": "stdout",
          "text": [
            "Total Clicks for Blue Button (A): 100\n",
            "Total Clicks for Red Button (B): 112\n"
          ]
        }
      ]
    },
    {
      "cell_type": "markdown",
      "source": [
        "Seeing this number, we may immediately conclude that the company should change their BUY NOW button to color red but that is not how it works in A/B testing.\n",
        "\n",
        "We need to proceed with statistics after this to understand if the difference is significant enough (significance level) to warrant the company changing the color."
      ],
      "metadata": {
        "id": "vN727XsjTlr_"
      }
    },
    {
      "cell_type": "markdown",
      "source": [
        "**2. Analyzing the Results**"
      ],
      "metadata": {
        "id": "jF1_V87k1B8x"
      }
    },
    {
      "cell_type": "code",
      "source": [
        "# Calculating click-through rates\n",
        "click_rate_A = total_clicks_A / num_users_A\n",
        "click_rate_B = total_clicks_B / num_users_B\n",
        "\n",
        "print(f\"Click-Through Rate of Blue Button (A): {click_rate_A:.2%}\")\n",
        "print(f\"Click-Through Rate of Red Button (B): {click_rate_B:.2%}\")\n"
      ],
      "metadata": {
        "colab": {
          "base_uri": "https://localhost:8080/"
        },
        "id": "CHY_OcVn01gZ",
        "outputId": "8528e918-c263-41e0-89d3-22f6bb8d582f"
      },
      "execution_count": 14,
      "outputs": [
        {
          "output_type": "stream",
          "name": "stdout",
          "text": [
            "Click-Through Rate of Blue Button (A): 10.00%\n",
            "Click-Through Rate of Red Button (B): 11.20%\n"
          ]
        }
      ]
    },
    {
      "cell_type": "markdown",
      "source": [
        "**3. Performing a Statistical Test (T-Test)**"
      ],
      "metadata": {
        "id": "VXTc4EfK1PKG"
      }
    },
    {
      "cell_type": "code",
      "source": [
        "from scipy import stats"
      ],
      "metadata": {
        "id": "zrCjTaG6SHWF"
      },
      "execution_count": 7,
      "outputs": []
    },
    {
      "cell_type": "code",
      "source": [
        "# Performing a t-test\n",
        "t_stat, p_value = stats.ttest_ind(clicks_A, clicks_B)"
      ],
      "metadata": {
        "id": "61r2AOBPy82R"
      },
      "execution_count": 8,
      "outputs": []
    },
    {
      "cell_type": "code",
      "source": [
        "print(f\"T-statistic: {t_stat:.4f}\")\n",
        "print(f\"P-value: {p_value:.4f}\")"
      ],
      "metadata": {
        "colab": {
          "base_uri": "https://localhost:8080/"
        },
        "id": "rKsmTwx6y85Q",
        "outputId": "655d2e1c-ebff-41fd-a300-47c7f04b492c"
      },
      "execution_count": 9,
      "outputs": [
        {
          "output_type": "stream",
          "name": "stdout",
          "text": [
            "T-statistic: -0.8714\n",
            "P-value: 0.3836\n"
          ]
        }
      ]
    },
    {
      "cell_type": "code",
      "source": [
        "# Checking significance\n",
        "alpha = 0.05  # Common significance level (5%)\n",
        "if p_value < alpha:\n",
        "    print(\"The difference is statistically significant. The Red button is better!\")\n",
        "else:\n",
        "    print(\"No significant difference. Stick with the Blue button.\")"
      ],
      "metadata": {
        "colab": {
          "base_uri": "https://localhost:8080/"
        },
        "id": "gACfQRmjy88O",
        "outputId": "8631f531-7c17-4d53-e011-c461b9854cc4"
      },
      "execution_count": 11,
      "outputs": [
        {
          "output_type": "stream",
          "name": "stdout",
          "text": [
            "No significant difference. Stick with the Blue button.\n"
          ]
        }
      ]
    },
    {
      "cell_type": "markdown",
      "source": [
        "**4. Visualizing the Results**"
      ],
      "metadata": {
        "id": "Lrew55wP1bOi"
      }
    },
    {
      "cell_type": "code",
      "source": [
        "import matplotlib.pyplot as plt"
      ],
      "metadata": {
        "id": "3FOCY8MVy8_K"
      },
      "execution_count": 12,
      "outputs": []
    },
    {
      "cell_type": "code",
      "source": [
        "# Plotting the click rates\n",
        "labels = ['Blue Button (A)', 'Red Button (B)']\n",
        "click_rates = [click_rate_A, click_rate_B]\n",
        "\n",
        "plt.bar(labels, click_rates, color=['blue', 'red'])\n",
        "plt.title('Comparison of Click Rates')\n",
        "plt.ylabel('Click-Through Rate');"
      ],
      "metadata": {
        "colab": {
          "base_uri": "https://localhost:8080/",
          "height": 452
        },
        "id": "cjwqYIvSy9CK",
        "outputId": "5d5929f9-1665-4ecc-cf7a-c6c17c817c6c"
      },
      "execution_count": 15,
      "outputs": [
        {
          "output_type": "display_data",
          "data": {
            "text/plain": [
              "<Figure size 640x480 with 1 Axes>"
            ],
            "image/png": "[encoded data removed]"
          },
          "metadata": {}
        }
      ]
    },
    {
      "cell_type": "markdown",
      "source": [
        "**5. Making a Decision**\n",
        "\n",
        "The p-value is greater than 0.05, the difference is likely due to random chance, so the Blue button should stay."
      ],
      "metadata": {
        "id": "BPkWawOD17N7"
      }
    },
    {
      "cell_type": "markdown",
      "source": [
        "**What is p-value?**\n",
        "\n",
        "A p-value is a number that helps us decide if the difference between two groups is real or just a coincidence (random chance).\n",
        "\n",
        "In our case, we wanted to prove that the difference between the 100 people that clicked button A and 120 that clicked button B were not just a coincidence. The fact is that, we could have had more people click red because by chance, the people we selected just love the color red generally. If we had made the red button green, it may have had less clicks. So, to eliminate these doubts, we have to use p-value to really establish our point."
      ],
      "metadata": {
        "id": "2X6CDt3X-jR_"
      }
    },
    {
      "cell_type": "markdown",
      "source": [
        "**How Small is Small? (Significance Level)**\n",
        "\n",
        "The usual threshold is 0.05 (or 5%).\n",
        "\n",
        "If the p-value < 0.05, the result is considered statistically significant (not due to chance).\n",
        "\n",
        "If the p-value ≥ 0.05, the result is considered not significant (could be due to chance).\n",
        "\n",
        "**In our case:**\n",
        "\n",
        "We tested Blue vs. Red buttons and got a p-value of 0.3836.\n",
        "\n",
        "This means there’s a 38% chance that the difference we saw is just luck.\n",
        "\n",
        "Since 0.3836 > 0.05, we consider this difference to be luck/chance.\n",
        "\n",
        "If the p-value was 0.02,\n",
        "\n",
        "This means there’s an 2% chance that the difference to be real and significant. Meaning that more people clicking on the red button was not by mere chance. That is, the probability that we had more red clicks by chance is very low.\n",
        "\n",
        "So, the lower your p-value is to the threshold (0.05), the better you can confidently establish that your results are real and not mere luck.\n",
        "\n",
        "From our result, we will not reject the null hypothesis (fail to reject the null hypothesis).\n",
        "\n",
        "In other words, the Red button is not necessarily better. Stick with the Blue button.\n"
      ],
      "metadata": {
        "id": "AYgI_h97AKhy"
      }
    },
    {
      "cell_type": "code",
      "source": [],
      "metadata": {
        "id": "cgHpc4mXDY1r"
      },
      "execution_count": null,
      "outputs": []
    }
  ]
}